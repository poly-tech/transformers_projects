{
  "nbformat": 4,
  "nbformat_minor": 0,
  "metadata": {
    "colab": {
      "provenance": []
    },
    "kernelspec": {
      "name": "python3",
      "display_name": "Python 3"
    },
    "language_info": {
      "name": "python"
    }
  },
  "cells": [
    {
      "cell_type": "code",
      "execution_count": 60,
      "metadata": {
        "colab": {
          "base_uri": "https://localhost:8080/"
        },
        "id": "XgGIxMj6mS6W",
        "outputId": "38ab3245-c2aa-4475-c103-d645dea1fba0"
      },
      "outputs": [
        {
          "output_type": "stream",
          "name": "stdout",
          "text": [
            "Natural language processing NLP is a subfield of <mask> intelligence AI\n",
            "Machine learning is used <mask> various applications\n",
            "The <mask> brown fox jumps over the lazy dog\n"
          ]
        }
      ],
      "source": [
        "import random\n",
        "import re\n",
        "\n",
        "def replace_random_word_with_mask(lines):\n",
        "    \"\"\"\n",
        "    Replaces one random word in each line with the word 'mask'.\n",
        "\n",
        "    Parameters:\n",
        "        lines (list): A list of strings, where each string represents a line.\n",
        "\n",
        "    Returns:\n",
        "        list: A new list with each line having one random word replaced by 'mask'.\n",
        "    \"\"\"\n",
        "    def replace_random_word(line):\n",
        "        # Split the line into words using regular expression to handle punctuations.\n",
        "        words = re.findall(r'\\b\\w+\\b', line)\n",
        "\n",
        "        # Select a random word to replace with 'mask'.\n",
        "        random_word_index = random.randint(0, len(words) - 1)\n",
        "        words[random_word_index] = '<mask>'\n",
        "\n",
        "        # Recreate the line with the replaced word.\n",
        "        replaced_line = ' '.join(words)\n",
        "        return replaced_line\n",
        "\n",
        "    # Apply the replace_random_word function to each line in the input list.\n",
        "    masked_lines = [replace_random_word(line) for line in lines]\n",
        "\n",
        "    return masked_lines\n",
        "\n",
        "# Example usage:\n",
        "lines = [\n",
        "    \"Natural language processing (NLP) is a subfield of artificial intelligence (AI)...\",\n",
        "    \"Machine learning is used in various applications...\",\n",
        "    \"The quick brown fox jumps over the lazy dog.\"\n",
        "]\n",
        "\n",
        "masked_lines = replace_random_word_with_mask(lines)\n",
        "for line in masked_lines:\n",
        "    print(line)"
      ]
    },
    {
      "cell_type": "code",
      "source": [
        "pip install transformers"
      ],
      "metadata": {
        "colab": {
          "base_uri": "https://localhost:8080/"
        },
        "id": "P7BbIkm7m31y",
        "outputId": "7c0e9b8e-2582-42c6-8859-d55c565ed697"
      },
      "execution_count": 4,
      "outputs": [
        {
          "output_type": "stream",
          "name": "stdout",
          "text": [
            "Collecting transformers\n",
            "  Downloading transformers-4.31.0-py3-none-any.whl (7.4 MB)\n",
            "\u001b[2K     \u001b[90m━━━━━━━━━━━━━━━━━━━━━━━━━━━━━━━━━━━━━━━━\u001b[0m \u001b[32m7.4/7.4 MB\u001b[0m \u001b[31m14.5 MB/s\u001b[0m eta \u001b[36m0:00:00\u001b[0m\n",
            "\u001b[?25hRequirement already satisfied: filelock in /usr/local/lib/python3.10/dist-packages (from transformers) (3.12.2)\n",
            "Collecting huggingface-hub<1.0,>=0.14.1 (from transformers)\n",
            "  Downloading huggingface_hub-0.16.4-py3-none-any.whl (268 kB)\n",
            "\u001b[2K     \u001b[90m━━━━━━━━━━━━━━━━━━━━━━━━━━━━━━━━━━━━━━\u001b[0m \u001b[32m268.8/268.8 kB\u001b[0m \u001b[31m23.0 MB/s\u001b[0m eta \u001b[36m0:00:00\u001b[0m\n",
            "\u001b[?25hRequirement already satisfied: numpy>=1.17 in /usr/local/lib/python3.10/dist-packages (from transformers) (1.22.4)\n",
            "Requirement already satisfied: packaging>=20.0 in /usr/local/lib/python3.10/dist-packages (from transformers) (23.1)\n",
            "Requirement already satisfied: pyyaml>=5.1 in /usr/local/lib/python3.10/dist-packages (from transformers) (6.0.1)\n",
            "Requirement already satisfied: regex!=2019.12.17 in /usr/local/lib/python3.10/dist-packages (from transformers) (2022.10.31)\n",
            "Requirement already satisfied: requests in /usr/local/lib/python3.10/dist-packages (from transformers) (2.27.1)\n",
            "Collecting tokenizers!=0.11.3,<0.14,>=0.11.1 (from transformers)\n",
            "  Downloading tokenizers-0.13.3-cp310-cp310-manylinux_2_17_x86_64.manylinux2014_x86_64.whl (7.8 MB)\n",
            "\u001b[2K     \u001b[90m━━━━━━━━━━━━━━━━━━━━━━━━━━━━━━━━━━━━━━━━\u001b[0m \u001b[32m7.8/7.8 MB\u001b[0m \u001b[31m35.8 MB/s\u001b[0m eta \u001b[36m0:00:00\u001b[0m\n",
            "\u001b[?25hCollecting safetensors>=0.3.1 (from transformers)\n",
            "  Downloading safetensors-0.3.1-cp310-cp310-manylinux_2_17_x86_64.manylinux2014_x86_64.whl (1.3 MB)\n",
            "\u001b[2K     \u001b[90m━━━━━━━━━━━━━━━━━━━━━━━━━━━━━━━━━━━━━━━━\u001b[0m \u001b[32m1.3/1.3 MB\u001b[0m \u001b[31m41.4 MB/s\u001b[0m eta \u001b[36m0:00:00\u001b[0m\n",
            "\u001b[?25hRequirement already satisfied: tqdm>=4.27 in /usr/local/lib/python3.10/dist-packages (from transformers) (4.65.0)\n",
            "Requirement already satisfied: fsspec in /usr/local/lib/python3.10/dist-packages (from huggingface-hub<1.0,>=0.14.1->transformers) (2023.6.0)\n",
            "Requirement already satisfied: typing-extensions>=3.7.4.3 in /usr/local/lib/python3.10/dist-packages (from huggingface-hub<1.0,>=0.14.1->transformers) (4.7.1)\n",
            "Requirement already satisfied: urllib3<1.27,>=1.21.1 in /usr/local/lib/python3.10/dist-packages (from requests->transformers) (1.26.16)\n",
            "Requirement already satisfied: certifi>=2017.4.17 in /usr/local/lib/python3.10/dist-packages (from requests->transformers) (2023.7.22)\n",
            "Requirement already satisfied: charset-normalizer~=2.0.0 in /usr/local/lib/python3.10/dist-packages (from requests->transformers) (2.0.12)\n",
            "Requirement already satisfied: idna<4,>=2.5 in /usr/local/lib/python3.10/dist-packages (from requests->transformers) (3.4)\n",
            "Installing collected packages: tokenizers, safetensors, huggingface-hub, transformers\n",
            "Successfully installed huggingface-hub-0.16.4 safetensors-0.3.1 tokenizers-0.13.3 transformers-4.31.0\n"
          ]
        }
      ]
    },
    {
      "cell_type": "code",
      "source": [
        "from transformers import pipeline\n",
        "mlm = pipeline('fill-mask')"
      ],
      "metadata": {
        "colab": {
          "base_uri": "https://localhost:8080/"
        },
        "id": "XuyHdogynSPf",
        "outputId": "da66451d-faaa-40d6-f805-f11fbbc4bc13"
      },
      "execution_count": 6,
      "outputs": [
        {
          "output_type": "stream",
          "name": "stderr",
          "text": [
            "No model was supplied, defaulted to distilroberta-base and revision ec58a5b (https://huggingface.co/distilroberta-base).\n",
            "Using a pipeline without specifying a model name and revision in production is not recommended.\n",
            "Some weights of the model checkpoint at distilroberta-base were not used when initializing RobertaForMaskedLM: ['roberta.pooler.dense.bias', 'roberta.pooler.dense.weight']\n",
            "- This IS expected if you are initializing RobertaForMaskedLM from the checkpoint of a model trained on another task or with another architecture (e.g. initializing a BertForSequenceClassification model from a BertForPreTraining model).\n",
            "- This IS NOT expected if you are initializing RobertaForMaskedLM from the checkpoint of a model that you expect to be exactly identical (initializing a BertForSequenceClassification model from a BertForSequenceClassification model).\n"
          ]
        }
      ]
    },
    {
      "cell_type": "code",
      "source": [
        "article = !cat /content/001.txt"
      ],
      "metadata": {
        "id": "JC8Ye6oNn_n8"
      },
      "execution_count": 9,
      "outputs": []
    },
    {
      "cell_type": "code",
      "source": [],
      "metadata": {
        "colab": {
          "base_uri": "https://localhost:8080/"
        },
        "id": "KZThRxpdoo4c",
        "outputId": "20725942-f1fd-43f5-c6cd-5bbfcdcefa15"
      },
      "execution_count": 20,
      "outputs": [
        {
          "output_type": "execute_result",
          "data": {
            "text/plain": [
              "['Quarterly profits at US media giant TimeWarner jumped 76% to $1.13bn (£600m) for the three months to December, from $639m year-earlier.']"
            ]
          },
          "metadata": {},
          "execution_count": 20
        }
      ]
    },
    {
      "cell_type": "code",
      "source": [
        "a = []\n",
        "for line in article:\n",
        "  if len(line) !=  0 :\n",
        "    a.append(line)"
      ],
      "metadata": {
        "id": "YaRMo-zIoFP1"
      },
      "execution_count": 24,
      "outputs": []
    },
    {
      "cell_type": "code",
      "source": [
        "a"
      ],
      "metadata": {
        "colab": {
          "base_uri": "https://localhost:8080/"
        },
        "id": "9_bcJPEuohic",
        "outputId": "40f83092-558f-440e-b9d8-7053a622565b"
      },
      "execution_count": 25,
      "outputs": [
        {
          "output_type": "execute_result",
          "data": {
            "text/plain": [
              "['Ad sales boost Time Warner profit',\n",
              " 'Quarterly profits at US media giant TimeWarner jumped 76% to $1.13bn (£600m) for the three months to December, from $639m year-earlier.',\n",
              " 'The firm, which is now one of the biggest investors in Google, benefited from sales of high-speed internet connections and higher advert sales. TimeWarner said fourth quarter sales rose 2% to $11.1bn from $10.9bn. Its profits were buoyed by one-off gains which offset a profit dip at Warner Bros, and less users for AOL.',\n",
              " \"Time Warner said on Friday that it now owns 8% of search-engine Google. But its own internet business, AOL, had has mixed fortunes. It lost 464,000 subscribers in the fourth quarter profits were lower than in the preceding three quarters. However, the company said AOL's underlying profit before exceptional items rose 8% on the back of stronger internet advertising revenues. It hopes to increase subscribers by offering the online service free to TimeWarner internet customers and will try to sign up AOL's existing customers for high-speed broadband. TimeWarner also has to restate 2000 and 2003 results following a probe by the US Securities Exchange Commission (SEC), which is close to concluding.\",\n",
              " 'Time Warner\\'s fourth quarter profits were slightly better than analysts\\' expectations. But its film division saw profits slump 27% to $284m, helped by box-office flops Alexander and Catwoman, a sharp contrast to year-earlier, when the third and final film in the Lord of the Rings trilogy boosted results. For the full-year, TimeWarner posted a profit of $3.36bn, up 27% from its 2003 performance, while revenues grew 6.4% to $42.09bn. \"Our financial performance was strong, meeting or exceeding all of our full-year objectives and greatly enhancing our flexibility,\" chairman and chief executive Richard Parsons said. For 2005, TimeWarner is projecting operating earnings growth of around 5%, and also expects higher revenue and wider profit margins.',\n",
              " \"TimeWarner is to restate its accounts as part of efforts to resolve an inquiry into AOL by US market regulators. It has already offered to pay $300m to settle charges, in a deal that is under review by the SEC. The company said it was unable to estimate the amount it needed to set aside for legal reserves, which it previously set at $500m. It intends to adjust the way it accounts for a deal with German music publisher Bertelsmann's purchase of a stake in AOL Europe, which it had reported as advertising revenue. It will now book the sale of its stake in AOL Europe as a loss on the value of that stake.\"]"
            ]
          },
          "metadata": {},
          "execution_count": 25
        }
      ]
    },
    {
      "cell_type": "code",
      "source": [
        "m_l = replace_random_word_with_mask(a)"
      ],
      "metadata": {
        "id": "mhAd5hhXnbpC"
      },
      "execution_count": 61,
      "outputs": []
    },
    {
      "cell_type": "code",
      "source": [
        "m_l"
      ],
      "metadata": {
        "colab": {
          "base_uri": "https://localhost:8080/"
        },
        "id": "EZIMokUZr8cr",
        "outputId": "1ae8eaf4-a33e-4360-b4e1-4175fd6cf508"
      },
      "execution_count": 62,
      "outputs": [
        {
          "output_type": "execute_result",
          "data": {
            "text/plain": [
              "['<mask> sales boost Time Warner profit', 'Quarterly profits at US <mask> giant TimeWarner jumped 76 to 1 13bn 600m for the three months to December from 639m year earlier', 'The firm which is now one of the biggest investors in Google benefited from sales of high speed internet connections and higher advert sales TimeWarner said fourth quarter sales rose 2 to 11 1bn from 10 9bn Its profits were buoyed by one <mask> gains which offset a profit dip at Warner Bros and less users for AOL', 'Time Warner said on Friday that it now owns 8 of search engine <mask> But its own internet business AOL had has mixed fortunes It lost 464 000 subscribers in the fourth quarter profits were lower than in the preceding three quarters However the company said AOL s underlying profit before exceptional items rose 8 on the back of stronger internet advertising revenues It hopes to increase subscribers by offering the online service free to TimeWarner internet customers and will try to sign up AOL s existing customers for high speed broadband TimeWarner also has to restate 2000 and 2003 results following a probe by the US Securities Exchange Commission SEC which is close to concluding', 'Time Warner s fourth quarter profits were slightly better than analysts expectations But its <mask> division saw profits slump 27 to 284m helped by box office flops Alexander and Catwoman a sharp contrast to year earlier when the third and final film in the Lord of the Rings trilogy boosted results For the full year TimeWarner posted a profit of 3 36bn up 27 from its 2003 performance while revenues grew 6 4 to 42 09bn Our financial performance was strong meeting or exceeding all of our full year objectives and greatly enhancing our flexibility chairman and chief executive Richard Parsons said For 2005 TimeWarner is projecting operating earnings growth of around 5 and also expects higher revenue and wider profit margins', 'TimeWarner is to restate its accounts as part of efforts to resolve an inquiry into AOL by US market regulators It <mask> already offered to pay 300m to settle charges in a deal that is under review by the SEC The company said it was unable to estimate the amount it needed to set aside for legal reserves which it previously set at 500m It intends to adjust the way it accounts for a deal with German music publisher Bertelsmann s purchase of a stake in AOL Europe which it had reported as advertising revenue It will now book the sale of its stake in AOL Europe as a loss on the value of that stake']"
            ]
          },
          "metadata": {},
          "execution_count": 62
        }
      ]
    },
    {
      "cell_type": "code",
      "source": [
        "b = mlm(m_l ,top_k=1)"
      ],
      "metadata": {
        "id": "J2crJZAzpDJV"
      },
      "execution_count": 79,
      "outputs": []
    },
    {
      "cell_type": "code",
      "source": [],
      "metadata": {
        "colab": {
          "base_uri": "https://localhost:8080/",
          "height": 35
        },
        "id": "qwb79YT_swEN",
        "outputId": "dcd057ce-b4c0-4c1d-9c59-e686cfd13a35"
      },
      "execution_count": 75,
      "outputs": [
        {
          "output_type": "execute_result",
          "data": {
            "text/plain": [
              "'Netflix'"
            ],
            "application/vnd.google.colaboratory.intrinsic+json": {
              "type": "string"
            }
          },
          "metadata": {},
          "execution_count": 75
        }
      ]
    },
    {
      "cell_type": "code",
      "source": [
        "def replace_mask_with_ordered_words(lines, replacement_words):\n",
        "    \"\"\"\n",
        "    Replaces the '<mask>' placeholder with words from the replacement_words list based on the order of the words in each line.\n",
        "\n",
        "    Parameters:\n",
        "        lines (list): A list of strings, where each string represents a line.\n",
        "        replacement_words (list): A list of words to use as replacements for '<mask>'.\n",
        "\n",
        "    Returns:\n",
        "        list: A new list with each line having '<mask>' replaced by words from the replacement_words list in order.\n",
        "    \"\"\"\n",
        "    def replace_mask(line):\n",
        "        # Split the line into words using regular expression to handle punctuations.\n",
        "        words = line.split()\n",
        "\n",
        "        # Replace the '<mask>' with words from the replacement_words list based on the order.\n",
        "        replaced_words = [replacement_words.pop(0) if word == '<mask>' else word for word in words]\n",
        "\n",
        "        # Recreate the line with the replaced words.\n",
        "        replaced_line = ' '.join(replaced_words)\n",
        "        return replaced_line\n",
        "\n",
        "    # Make a copy of the replacement_words list to avoid modifying the original list.\n",
        "    replacement_words = replacement_words.copy()\n",
        "\n",
        "    # Apply the replace_mask function to each line in the input list.\n",
        "    replaced_lines = [replace_mask(line) for line in lines]\n",
        "\n",
        "    return replaced_lines\n",
        "\n",
        "# Example usage:\n",
        "lines = [\n",
        "    \"Natural language processing (NLP) is a <mask> of artificial intelligence (AI)...\",\n",
        "    \"Machine learning is used in <mask> applications...\",\n",
        "    \"The quick <mask> fox jumps over the lazy dog.\"\n",
        "]\n",
        "\n",
        "replacement_words = [\"important\", \"vital\", \"essential\", \"fundamental\"]\n",
        "replaced_lines = replace_mask_with_ordered_words(lines, replacement_words)\n",
        "for line in replaced_lines:\n",
        "    print(line)"
      ],
      "metadata": {
        "colab": {
          "base_uri": "https://localhost:8080/"
        },
        "id": "JvLI2wJusaqL",
        "outputId": "7c5ba4ec-c12a-4a7f-dae3-809da887577e"
      },
      "execution_count": 90,
      "outputs": [
        {
          "output_type": "stream",
          "name": "stdout",
          "text": [
            "Natural language processing (NLP) is a important of artificial intelligence (AI)...\n",
            "Machine learning is used in vital applications...\n",
            "The quick essential fox jumps over the lazy dog.\n"
          ]
        }
      ]
    },
    {
      "cell_type": "code",
      "source": [
        "len(a)"
      ],
      "metadata": {
        "colab": {
          "base_uri": "https://localhost:8080/"
        },
        "id": "voZfRG6bxhxI",
        "outputId": "5c293ea1-515e-49f8-bd2d-dd3d7c1a95bb"
      },
      "execution_count": 95,
      "outputs": [
        {
          "output_type": "execute_result",
          "data": {
            "text/plain": [
              "6"
            ]
          },
          "metadata": {},
          "execution_count": 95
        }
      ]
    },
    {
      "cell_type": "code",
      "source": [
        "re_words= []\n",
        "for i in b:\n",
        "  for o in i:\n",
        "    re_words.append(o['token_str'])\n",
        "re_words"
      ],
      "metadata": {
        "colab": {
          "base_uri": "https://localhost:8080/"
        },
        "id": "_hzWccMfvZHy",
        "outputId": "7daf60bd-3af1-40bd-d467-7b8bc8d9b935"
      },
      "execution_count": 96,
      "outputs": [
        {
          "output_type": "execute_result",
          "data": {
            "text/plain": [
              "['Netflix', ' telecom', ' share', ' AOL', ' entertainment', ' has']"
            ]
          },
          "metadata": {},
          "execution_count": 96
        }
      ]
    },
    {
      "cell_type": "code",
      "source": [
        "new  = replace_mask_with_ordered_words(m_l, re_words)"
      ],
      "metadata": {
        "id": "W5FAK4QTrYJc"
      },
      "execution_count": 97,
      "outputs": []
    },
    {
      "cell_type": "code",
      "source": [
        "new"
      ],
      "metadata": {
        "colab": {
          "base_uri": "https://localhost:8080/"
        },
        "id": "N4eCHsAev48i",
        "outputId": "c50d3f73-f757-42c2-f8f2-069fbe8c7162"
      },
      "execution_count": 98,
      "outputs": [
        {
          "output_type": "execute_result",
          "data": {
            "text/plain": [
              "['Netflix sales boost Time Warner profit', 'Quarterly profits at US  telecom giant TimeWarner jumped 76 to 1 13bn 600m for the three months to December from 639m year earlier', 'The firm which is now one of the biggest investors in Google benefited from sales of high speed internet connections and higher advert sales TimeWarner said fourth quarter sales rose 2 to 11 1bn from 10 9bn Its profits were buoyed by one  share gains which offset a profit dip at Warner Bros and less users for AOL', 'Time Warner said on Friday that it now owns 8 of search engine  AOL But its own internet business AOL had has mixed fortunes It lost 464 000 subscribers in the fourth quarter profits were lower than in the preceding three quarters However the company said AOL s underlying profit before exceptional items rose 8 on the back of stronger internet advertising revenues It hopes to increase subscribers by offering the online service free to TimeWarner internet customers and will try to sign up AOL s existing customers for high speed broadband TimeWarner also has to restate 2000 and 2003 results following a probe by the US Securities Exchange Commission SEC which is close to concluding', 'Time Warner s fourth quarter profits were slightly better than analysts expectations But its  entertainment division saw profits slump 27 to 284m helped by box office flops Alexander and Catwoman a sharp contrast to year earlier when the third and final film in the Lord of the Rings trilogy boosted results For the full year TimeWarner posted a profit of 3 36bn up 27 from its 2003 performance while revenues grew 6 4 to 42 09bn Our financial performance was strong meeting or exceeding all of our full year objectives and greatly enhancing our flexibility chairman and chief executive Richard Parsons said For 2005 TimeWarner is projecting operating earnings growth of around 5 and also expects higher revenue and wider profit margins', 'TimeWarner is to restate its accounts as part of efforts to resolve an inquiry into AOL by US market regulators It  has already offered to pay 300m to settle charges in a deal that is under review by the SEC The company said it was unable to estimate the amount it needed to set aside for legal reserves which it previously set at 500m It intends to adjust the way it accounts for a deal with German music publisher Bertelsmann s purchase of a stake in AOL Europe which it had reported as advertising revenue It will now book the sale of its stake in AOL Europe as a loss on the value of that stake']"
            ]
          },
          "metadata": {},
          "execution_count": 98
        }
      ]
    }
  ]
}